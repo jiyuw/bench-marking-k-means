{
 "cells": [
  {
   "cell_type": "markdown",
   "metadata": {},
   "source": [
    "# 001-Create Initialization of centroids for each dataset\n",
    "Use modified kmeans++ method from sklearn package"
   ]
  },
  {
   "cell_type": "code",
   "execution_count": 1,
   "metadata": {},
   "outputs": [],
   "source": [
    "import numpy as np\n",
    "import os\n",
    "from src.util import cen_init, expand_dataset"
   ]
  },
  {
   "cell_type": "code",
   "execution_count": 2,
   "metadata": {},
   "outputs": [
    {
     "data": {
      "text/plain": [
       "['a3', 'dim032', 'dim128', 'dim512']"
      ]
     },
     "execution_count": 2,
     "metadata": {},
     "output_type": "execute_result"
    }
   ],
   "source": [
    "datasets = [name.split('.')[0] for name in os.listdir(\"datasets/\") if '-' not in name]\n",
    "datasets"
   ]
  },
  {
   "cell_type": "markdown",
   "metadata": {},
   "source": [
    "### expand datasets"
   ]
  },
  {
   "cell_type": "code",
   "execution_count": 4,
   "metadata": {},
   "outputs": [
    {
     "name": "stdout",
     "output_type": "stream",
     "text": [
      "a3e1 finished\n",
      "a3e2 finished\n",
      "a3e3 finished\n",
      "dim032e1 finished\n",
      "dim032e2 finished\n",
      "dim032e3 finished\n",
      "dim128e1 finished\n",
      "dim128e2 finished\n",
      "dim128e3 finished\n",
      "dim512e1 finished\n",
      "dim512e2 finished\n",
      "dim512e3 finished\n"
     ]
    }
   ],
   "source": [
    "expands = [10000, 100000, 1000000]\n",
    "data_dir = 'datasets/'\n",
    "for data in datasets:\n",
    "    d = np.loadtxt(data_dir+data+'.txt')\n",
    "    cen = np.loadtxt(data_dir+data+'-c.txt')\n",
    "    pa = np.loadtxt(data_dir+data+'-pa.txt')\n",
    "    for i in range(3):\n",
    "        new_d, new_pa = expand_dataset(d, cen, pa, expands[i])\n",
    "        new_data_file = data_dir+data+'e'+str(i+1)+'.txt'\n",
    "        new_cen_file = data_dir+data+'e'+str(i+1)+'-c.txt'\n",
    "        new_pa_file = data_dir+data+'e'+str(i+1)+'-pa.txt'\n",
    "        np.savetxt(new_data_file, new_d, fmt='%d')\n",
    "        np.savetxt(new_cen_file, cen, fmt='%d')\n",
    "        np.savetxt(new_pa_file, new_pa, fmt='%d')\n",
    "        print(data+'e'+str(i+1)+' finished')"
   ]
  },
  {
   "cell_type": "markdown",
   "metadata": {},
   "source": [
    "### initialize centroids"
   ]
  },
  {
   "cell_type": "code",
   "execution_count": 5,
   "metadata": {},
   "outputs": [
    {
     "data": {
      "text/plain": [
       "['a3',\n",
       " 'a3e1',\n",
       " 'a3e2',\n",
       " 'a3e3',\n",
       " 'dim032',\n",
       " 'dim032e1',\n",
       " 'dim032e2',\n",
       " 'dim032e3',\n",
       " 'dim128',\n",
       " 'dim128e1',\n",
       " 'dim128e2',\n",
       " 'dim128e3',\n",
       " 'dim512',\n",
       " 'dim512e1',\n",
       " 'dim512e2',\n",
       " 'dim512e3']"
      ]
     },
     "execution_count": 5,
     "metadata": {},
     "output_type": "execute_result"
    }
   ],
   "source": [
    "new_datasets = [name.split('.')[0] for name in os.listdir(\"datasets/\") if '-' not in name]\n",
    "new_datasets"
   ]
  },
  {
   "cell_type": "code",
   "execution_count": 7,
   "metadata": {},
   "outputs": [
    {
     "name": "stdout",
     "output_type": "stream",
     "text": [
      "a3 finished\n",
      "a3e1 finished\n",
      "a3e2 finished\n",
      "a3e3 finished\n",
      "dim032 finished\n",
      "dim032e1 finished\n",
      "dim032e2 finished\n",
      "dim032e3 finished\n",
      "dim128 finished\n",
      "dim128e1 finished\n",
      "dim128e2 finished\n",
      "dim128e3 finished\n",
      "dim512 finished\n",
      "dim512e1 finished\n",
      "dim512e2 finished\n",
      "dim512e3 finished\n"
     ]
    }
   ],
   "source": [
    "random_state = np.random.RandomState(222)\n",
    "for name in new_datasets:\n",
    "    data = np.loadtxt(os.path.join('datasets', name+'.txt'))\n",
    "    gtcen = np.loadtxt(os.path.join('datasets', name+'-c.txt'))\n",
    "    n_clusters = gtcen.shape[0]\n",
    "    cen = cen_init(data, n_clusters, random_state)\n",
    "    np.savetxt(os.path.join('datasets', name+'-ic.txt'), cen, delimiter=' ', fmt='%d')\n",
    "    print(name+' finished')"
   ]
  }
 ],
 "metadata": {
  "kernelspec": {
   "display_name": "Python 3",
   "language": "python",
   "name": "python3"
  },
  "language_info": {
   "codemirror_mode": {
    "name": "ipython",
    "version": 3
   },
   "file_extension": ".py",
   "mimetype": "text/x-python",
   "name": "python",
   "nbconvert_exporter": "python",
   "pygments_lexer": "ipython3",
   "version": "3.7.0"
  }
 },
 "nbformat": 4,
 "nbformat_minor": 2
}
