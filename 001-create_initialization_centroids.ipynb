{
 "cells": [
  {
   "cell_type": "markdown",
   "metadata": {},
   "source": [
    "# 001-Create Initialization of centroids for each dataset\n",
    "Use modified kmeans++ method from sklearn package"
   ]
  },
  {
   "cell_type": "code",
   "execution_count": 1,
   "metadata": {},
   "outputs": [],
   "source": [
    "import numpy as np\n",
    "import os\n",
    "from src.util import cen_init"
   ]
  },
  {
   "cell_type": "code",
   "execution_count": 2,
   "metadata": {},
   "outputs": [],
   "source": [
    "datasets = ['a'+str(i+1) for i in range(3)]+['s'+str(i+1) for i in range(4)]+['birch'+str(i+1) for i in range(2)]"
   ]
  },
  {
   "cell_type": "code",
   "execution_count": 4,
   "metadata": {},
   "outputs": [
    {
     "name": "stdout",
     "output_type": "stream",
     "text": [
      "a1 finished\n",
      "a2 finished\n",
      "a3 finished\n",
      "s1 finished\n",
      "s2 finished\n",
      "s3 finished\n",
      "s4 finished\n",
      "birch1 finished\n",
      "birch2 finished\n"
     ]
    }
   ],
   "source": [
    "random_state = np.random.RandomState(222)\n",
    "for name in datasets:\n",
    "    data = np.loadtxt(os.path.join('datasets', name+'.txt'))\n",
    "    gtcen = np.loadtxt(os.path.join('datasets', name+'-c.txt'))\n",
    "    n_clusters = gtcen.shape[0]\n",
    "    cen = cen_init(data, n_clusters, random_state)\n",
    "    np.savetxt(os.path.join('datasets', name+'-ic.txt'), cen, delimiter=' ', fmt='%d')\n",
    "    print(name+' finished')"
   ]
  }
 ],
 "metadata": {
  "kernelspec": {
   "display_name": "Python 3",
   "language": "python",
   "name": "python3"
  },
  "language_info": {
   "codemirror_mode": {
    "name": "ipython",
    "version": 3
   },
   "file_extension": ".py",
   "mimetype": "text/x-python",
   "name": "python",
   "nbconvert_exporter": "python",
   "pygments_lexer": "ipython3",
   "version": "3.7.0"
  }
 },
 "nbformat": 4,
 "nbformat_minor": 2
}
