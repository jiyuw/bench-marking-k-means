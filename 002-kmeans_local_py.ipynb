{
 "cells": [
  {
   "cell_type": "markdown",
   "metadata": {},
   "source": [
    "# 002-Running kmeans on local computer"
   ]
  },
  {
   "cell_type": "markdown",
   "metadata": {},
   "source": [
    "**Information**\n",
    "\n",
    "Processor: Intel(R) Core(TM) i7-7500U CPU @ 2.70GHz 2.90GHz\n",
    "\n",
    "Installed memory (RAM): 16.0 GB\n",
    "\n",
    "System: 64-bit Operating System, x64-based processor"
   ]
  },
  {
   "cell_type": "code",
   "execution_count": 1,
   "metadata": {},
   "outputs": [],
   "source": [
    "import numpy as np\n",
    "import pandas as pd\n",
    "import os\n",
    "from src.kmeans_python import *\n",
    "from src.util import *"
   ]
  },
  {
   "cell_type": "markdown",
   "metadata": {},
   "source": [
    "### 1. create list of dataset names"
   ]
  },
  {
   "cell_type": "code",
   "execution_count": 2,
   "metadata": {},
   "outputs": [],
   "source": [
    "datasets = [name.split('.')[0] for name in os.listdir(\"datasets/\") if '-' not in name]"
   ]
  },
  {
   "cell_type": "code",
   "execution_count": 3,
   "metadata": {},
   "outputs": [
    {
     "data": {
      "text/plain": [
       "['a3',\n",
       " 'a3e1',\n",
       " 'a3e2',\n",
       " 'a3e3',\n",
       " 'dim032',\n",
       " 'dim032e1',\n",
       " 'dim032e2',\n",
       " 'dim032e3',\n",
       " 'dim128',\n",
       " 'dim128e1',\n",
       " 'dim128e2',\n",
       " 'dim128e3',\n",
       " 'dim512',\n",
       " 'dim512e1',\n",
       " 'dim512e2',\n",
       " 'dim512e3']"
      ]
     },
     "execution_count": 3,
     "metadata": {},
     "output_type": "execute_result"
    }
   ],
   "source": [
    "datasets"
   ]
  },
  {
   "cell_type": "markdown",
   "metadata": {},
   "source": [
    "### 2. train each dataset"
   ]
  },
  {
   "cell_type": "code",
   "execution_count": 4,
   "metadata": {},
   "outputs": [
    {
     "name": "stdout",
     "output_type": "stream",
     "text": [
      "#### start training-python ####\n",
      "#### a3\n",
      "- a3 initiated\n",
      "- a3 data loaded\n",
      "- a3 training start\n"
     ]
    },
    {
     "data": {
      "application/vnd.jupyter.widget-view+json": {
       "model_id": "e41c164e7a4e40b493337bb53c0b74c6",
       "version_major": 2,
       "version_minor": 0
      },
      "text/plain": [
       "HBox(children=(HTML(value=''), FloatProgress(value=0.0), HTML(value='')))"
      ]
     },
     "metadata": {},
     "output_type": "display_data"
    },
    {
     "name": "stdout",
     "output_type": "stream",
     "text": [
      "\n",
      "- a3 trained\n",
      "time used: 3300.002ms\n",
      "- a3 saved\n",
      "The final cost reduction is 0.0%\n",
      "The final NMI score is 0.9799\n",
      "#### a3e1\n",
      "- a3e1 initiated\n",
      "- a3e1 data loaded\n",
      "- a3e1 training start\n"
     ]
    },
    {
     "data": {
      "application/vnd.jupyter.widget-view+json": {
       "model_id": "fbdb56520d5b4739b44a5a297d4d3ede",
       "version_major": 2,
       "version_minor": 0
      },
      "text/plain": [
       "HBox(children=(HTML(value=''), FloatProgress(value=0.0), HTML(value='')))"
      ]
     },
     "metadata": {},
     "output_type": "display_data"
    },
    {
     "name": "stdout",
     "output_type": "stream",
     "text": [
      "\n",
      "- a3e1 trained\n",
      "time used: 4355.168ms\n",
      "- a3e1 saved\n",
      "The final cost reduction is 0.0%\n",
      "The final NMI score is 0.9922\n",
      "#### a3e2\n",
      "- a3e2 initiated\n",
      "- a3e2 data loaded\n",
      "- a3e2 training start\n"
     ]
    },
    {
     "data": {
      "application/vnd.jupyter.widget-view+json": {
       "model_id": "efcd878770184b99ae4f39bab35e5520",
       "version_major": 2,
       "version_minor": 0
      },
      "text/plain": [
       "HBox(children=(HTML(value=''), FloatProgress(value=0.0), HTML(value='')))"
      ]
     },
     "metadata": {},
     "output_type": "display_data"
    },
    {
     "name": "stdout",
     "output_type": "stream",
     "text": [
      "\n",
      "- a3e2 trained\n",
      "time used: 38904.652ms\n",
      "- a3e2 saved\n",
      "The final cost reduction is 0.0%\n",
      "The final NMI score is 1.0\n",
      "#### a3e3\n",
      "- a3e3 initiated\n",
      "- a3e3 data loaded\n",
      "- a3e3 training start\n"
     ]
    },
    {
     "data": {
      "application/vnd.jupyter.widget-view+json": {
       "model_id": "c114eea1826b4b0fa56abe94d3eac101",
       "version_major": 2,
       "version_minor": 0
      },
      "text/plain": [
       "HBox(children=(HTML(value=''), FloatProgress(value=0.0), HTML(value='')))"
      ]
     },
     "metadata": {},
     "output_type": "display_data"
    },
    {
     "name": "stdout",
     "output_type": "stream",
     "text": [
      "\n",
      "- a3e3 trained\n",
      "time used: 386608.289ms\n",
      "- a3e3 saved\n",
      "The final cost reduction is 0.0%\n",
      "The final NMI score is 1.0\n",
      "#### dim032\n",
      "- dim032 initiated\n",
      "- dim032 data loaded\n",
      "- dim032 training start\n"
     ]
    },
    {
     "data": {
      "application/vnd.jupyter.widget-view+json": {
       "model_id": "a7b9a9839ac94558b2f5547cda0979e9",
       "version_major": 2,
       "version_minor": 0
      },
      "text/plain": [
       "HBox(children=(HTML(value=''), FloatProgress(value=0.0), HTML(value='')))"
      ]
     },
     "metadata": {},
     "output_type": "display_data"
    },
    {
     "name": "stdout",
     "output_type": "stream",
     "text": [
      "\n",
      "- dim032 trained\n",
      "time used: 1956.998ms\n",
      "- dim032 saved\n",
      "The final cost reduction is 0.0%\n",
      "The final NMI score is 1.0\n",
      "#### dim032e1\n",
      "- dim032e1 initiated\n",
      "- dim032e1 data loaded\n",
      "- dim032e1 training start\n"
     ]
    },
    {
     "data": {
      "application/vnd.jupyter.widget-view+json": {
       "model_id": "f9bd288438774325a1c6c295e871e0cb",
       "version_major": 2,
       "version_minor": 0
      },
      "text/plain": [
       "HBox(children=(HTML(value=''), FloatProgress(value=0.0), HTML(value='')))"
      ]
     },
     "metadata": {},
     "output_type": "display_data"
    },
    {
     "name": "stdout",
     "output_type": "stream",
     "text": [
      "\n",
      "- dim032e1 trained\n",
      "time used: 27267.579ms\n",
      "- dim032e1 saved\n",
      "The final cost reduction is 0.0%\n",
      "The final NMI score is 1.0\n",
      "#### dim032e2\n",
      "- dim032e2 initiated\n",
      "- dim032e2 data loaded\n",
      "- dim032e2 training start\n"
     ]
    },
    {
     "data": {
      "application/vnd.jupyter.widget-view+json": {
       "model_id": "35e8d69f56f1494e9d4446ccdc0c23a5",
       "version_major": 2,
       "version_minor": 0
      },
      "text/plain": [
       "HBox(children=(HTML(value=''), FloatProgress(value=0.0), HTML(value='')))"
      ]
     },
     "metadata": {},
     "output_type": "display_data"
    },
    {
     "name": "stdout",
     "output_type": "stream",
     "text": [
      "\n",
      "- dim032e2 trained\n",
      "time used: 314639.903ms\n",
      "- dim032e2 saved\n",
      "The final cost reduction is 0.0%\n",
      "The final NMI score is 1.0\n",
      "#### dim032e3\n",
      "- dim032e3 initiated\n",
      "- dim032e3 data loaded\n",
      "- dim032e3 training start\n"
     ]
    },
    {
     "data": {
      "application/vnd.jupyter.widget-view+json": {
       "model_id": "612c29da85144dc0b8004a70a42d2b5c",
       "version_major": 2,
       "version_minor": 0
      },
      "text/plain": [
       "HBox(children=(HTML(value=''), FloatProgress(value=0.0), HTML(value='')))"
      ]
     },
     "metadata": {},
     "output_type": "display_data"
    },
    {
     "name": "stdout",
     "output_type": "stream",
     "text": [
      "\n",
      "- dim032e3 trained\n",
      "time used: 3348510.612ms\n",
      "- dim032e3 saved\n",
      "The final cost reduction is 0.0%\n",
      "The final NMI score is 1.0\n",
      "#### dim128\n",
      "- dim128 initiated\n",
      "- dim128 data loaded\n",
      "- dim128 training start\n"
     ]
    },
    {
     "data": {
      "application/vnd.jupyter.widget-view+json": {
       "model_id": "b846c72a3b614a3fa414290d9d7b7f6d",
       "version_major": 2,
       "version_minor": 0
      },
      "text/plain": [
       "HBox(children=(HTML(value=''), FloatProgress(value=0.0), HTML(value='')))"
      ]
     },
     "metadata": {},
     "output_type": "display_data"
    },
    {
     "name": "stdout",
     "output_type": "stream",
     "text": [
      "\n",
      "- dim128 trained\n",
      "time used: 6356.976ms\n",
      "- dim128 saved\n",
      "The final cost reduction is 0.0%\n",
      "The final NMI score is 1.0\n",
      "#### dim128e1\n",
      "- dim128e1 initiated\n",
      "- dim128e1 data loaded\n",
      "- dim128e1 training start\n"
     ]
    },
    {
     "data": {
      "application/vnd.jupyter.widget-view+json": {
       "model_id": "2f8e429862364bbdb59395d95f27d26f",
       "version_major": 2,
       "version_minor": 0
      },
      "text/plain": [
       "HBox(children=(HTML(value=''), FloatProgress(value=0.0), HTML(value='')))"
      ]
     },
     "metadata": {},
     "output_type": "display_data"
    },
    {
     "name": "stdout",
     "output_type": "stream",
     "text": [
      "\n",
      "- dim128e1 trained\n",
      "time used: 101936.959ms\n",
      "- dim128e1 saved\n",
      "The final cost reduction is 0.0%\n",
      "The final NMI score is 1.0\n",
      "#### dim128e2\n",
      "- dim128e2 initiated\n",
      "- dim128e2 data loaded\n",
      "- dim128e2 training start\n"
     ]
    },
    {
     "data": {
      "application/vnd.jupyter.widget-view+json": {
       "model_id": "28f1c236e337486a948ba033454d5bbb",
       "version_major": 2,
       "version_minor": 0
      },
      "text/plain": [
       "HBox(children=(HTML(value=''), FloatProgress(value=0.0), HTML(value='')))"
      ]
     },
     "metadata": {},
     "output_type": "display_data"
    },
    {
     "name": "stdout",
     "output_type": "stream",
     "text": [
      "\n",
      "- dim128e2 trained\n",
      "time used: 1058977.308ms\n",
      "- dim128e2 saved\n",
      "The final cost reduction is 0.0%\n",
      "The final NMI score is 1.0\n",
      "#### dim128e3\n",
      "- dim128e3 initiated\n",
      "- dim128e3 data loaded\n",
      "- dim128e3 training start\n"
     ]
    },
    {
     "data": {
      "application/vnd.jupyter.widget-view+json": {
       "model_id": "c701546a54c044329755a1c140f725db",
       "version_major": 2,
       "version_minor": 0
      },
      "text/plain": [
       "HBox(children=(HTML(value=''), FloatProgress(value=0.0), HTML(value='')))"
      ]
     },
     "metadata": {},
     "output_type": "display_data"
    },
    {
     "name": "stdout",
     "output_type": "stream",
     "text": [
      "\n",
      "- dim128e3 trained\n",
      "time used: 12070384.911ms\n",
      "- dim128e3 saved\n",
      "The final cost reduction is 0.0%\n",
      "The final NMI score is 1.0\n",
      "#### dim512\n",
      "- dim512 initiated\n",
      "- dim512 data loaded\n",
      "- dim512 training start\n"
     ]
    },
    {
     "data": {
      "application/vnd.jupyter.widget-view+json": {
       "model_id": "4c09d8a752104008bea92d4d6845716e",
       "version_major": 2,
       "version_minor": 0
      },
      "text/plain": [
       "HBox(children=(HTML(value=''), FloatProgress(value=0.0), HTML(value='')))"
      ]
     },
     "metadata": {},
     "output_type": "display_data"
    },
    {
     "name": "stdout",
     "output_type": "stream",
     "text": [
      "\n",
      "- dim512 trained\n",
      "time used: 27015.016ms\n",
      "- dim512 saved\n",
      "The final cost reduction is 0.0%\n",
      "The final NMI score is 1.0\n",
      "#### dim512e1\n",
      "- dim512e1 initiated\n",
      "- dim512e1 data loaded\n",
      "- dim512e1 training start\n"
     ]
    },
    {
     "data": {
      "application/vnd.jupyter.widget-view+json": {
       "model_id": "7c18e054e04849a793e344abda5e5f19",
       "version_major": 2,
       "version_minor": 0
      },
      "text/plain": [
       "HBox(children=(HTML(value=''), FloatProgress(value=0.0), HTML(value='')))"
      ]
     },
     "metadata": {},
     "output_type": "display_data"
    },
    {
     "name": "stdout",
     "output_type": "stream",
     "text": [
      "\n",
      "- dim512e1 trained\n",
      "time used: 459363.018ms\n",
      "- dim512e1 saved\n",
      "The final cost reduction is 0.0%\n",
      "The final NMI score is 1.0\n",
      "#### dim512e2\n",
      "- dim512e2 initiated\n",
      "- dim512e2 data loaded\n",
      "- dim512e2 training start\n"
     ]
    },
    {
     "data": {
      "application/vnd.jupyter.widget-view+json": {
       "model_id": "7318cb39872c47039f35e44f60fb31e5",
       "version_major": 2,
       "version_minor": 0
      },
      "text/plain": [
       "HBox(children=(HTML(value=''), FloatProgress(value=0.0), HTML(value='')))"
      ]
     },
     "metadata": {},
     "output_type": "display_data"
    },
    {
     "name": "stdout",
     "output_type": "stream",
     "text": [
      "\n"
     ]
    },
    {
     "ename": "KeyboardInterrupt",
     "evalue": "",
     "output_type": "error",
     "traceback": [
      "\u001b[1;31m---------------------------------------------------------------------------\u001b[0m",
      "\u001b[1;31mKeyboardInterrupt\u001b[0m                         Traceback (most recent call last)",
      "\u001b[1;32m<ipython-input-4-f9827f667b60>\u001b[0m in \u001b[0;36m<module>\u001b[1;34m\u001b[0m\n\u001b[0;32m      6\u001b[0m     \u001b[0md\u001b[0m \u001b[1;33m=\u001b[0m \u001b[0mdataset\u001b[0m\u001b[1;33m(\u001b[0m\u001b[0mdata\u001b[0m\u001b[1;33m,\u001b[0m \u001b[0mlocation\u001b[0m\u001b[1;33m)\u001b[0m\u001b[1;33m\u001b[0m\u001b[0m\n\u001b[0;32m      7\u001b[0m     \u001b[0md\u001b[0m\u001b[1;33m.\u001b[0m\u001b[0mload_dataset\u001b[0m\u001b[1;33m(\u001b[0m\u001b[0mload_dataset_py\u001b[0m\u001b[1;33m)\u001b[0m\u001b[1;33m\u001b[0m\u001b[0m\n\u001b[1;32m----> 8\u001b[1;33m     \u001b[0mt\u001b[0m \u001b[1;33m=\u001b[0m \u001b[0md\u001b[0m\u001b[1;33m.\u001b[0m\u001b[0mkmeans_train\u001b[0m\u001b[1;33m(\u001b[0m\u001b[0mkmeans_py\u001b[0m\u001b[1;33m,\u001b[0m \u001b[1;36m100\u001b[0m\u001b[1;33m)\u001b[0m\u001b[1;33m\u001b[0m\u001b[0m\n\u001b[0m\u001b[0;32m      9\u001b[0m     \u001b[0mn_s\u001b[0m\u001b[1;33m,\u001b[0m \u001b[0mn_f\u001b[0m\u001b[1;33m,\u001b[0m \u001b[0mn_c\u001b[0m \u001b[1;33m=\u001b[0m \u001b[0md\u001b[0m\u001b[1;33m.\u001b[0m\u001b[0mdataset_info\u001b[0m\u001b[1;33m(\u001b[0m\u001b[1;33m)\u001b[0m\u001b[1;33m\u001b[0m\u001b[0m\n\u001b[0;32m     10\u001b[0m     \u001b[0md\u001b[0m\u001b[1;33m.\u001b[0m\u001b[0msave_output\u001b[0m\u001b[1;33m(\u001b[0m\u001b[1;33m)\u001b[0m\u001b[1;33m\u001b[0m\u001b[0m\n",
      "\u001b[1;32mD:\\courses\\fall2020\\DATA516 - scalable\\project\\bench-marking-k-means\\src\\util.py\u001b[0m in \u001b[0;36mkmeans_train\u001b[1;34m(self, train_fn, max_iter)\u001b[0m\n\u001b[0;32m    122\u001b[0m             \u001b[0mself\u001b[0m\u001b[1;33m.\u001b[0m\u001b[0mlabel\u001b[0m\u001b[1;33m,\u001b[0m \u001b[0mself\u001b[0m\u001b[1;33m.\u001b[0m\u001b[0mcentroid\u001b[0m\u001b[1;33m,\u001b[0m \u001b[0mself\u001b[0m\u001b[1;33m.\u001b[0m\u001b[0mcost\u001b[0m \u001b[1;33m=\u001b[0m \u001b[0mtrain_fn\u001b[0m\u001b[1;33m(\u001b[0m\u001b[0mself\u001b[0m\u001b[1;33m.\u001b[0m\u001b[0mcon\u001b[0m\u001b[1;33m,\u001b[0m \u001b[0mself\u001b[0m\u001b[1;33m.\u001b[0m\u001b[0mdata\u001b[0m\u001b[1;33m,\u001b[0m \u001b[0mself\u001b[0m\u001b[1;33m.\u001b[0m\u001b[0minit_cen\u001b[0m\u001b[1;33m,\u001b[0m \u001b[0mmax_iter\u001b[0m\u001b[1;33m)\u001b[0m\u001b[1;33m\u001b[0m\u001b[0m\n\u001b[0;32m    123\u001b[0m         \u001b[1;32melse\u001b[0m\u001b[1;33m:\u001b[0m\u001b[1;33m\u001b[0m\u001b[0m\n\u001b[1;32m--> 124\u001b[1;33m             \u001b[0mself\u001b[0m\u001b[1;33m.\u001b[0m\u001b[0mlabel\u001b[0m\u001b[1;33m,\u001b[0m \u001b[0mself\u001b[0m\u001b[1;33m.\u001b[0m\u001b[0mcentroid\u001b[0m\u001b[1;33m,\u001b[0m \u001b[0mself\u001b[0m\u001b[1;33m.\u001b[0m\u001b[0mcost\u001b[0m \u001b[1;33m=\u001b[0m \u001b[0mtrain_fn\u001b[0m\u001b[1;33m(\u001b[0m\u001b[0mself\u001b[0m\u001b[1;33m.\u001b[0m\u001b[0mdata\u001b[0m\u001b[1;33m,\u001b[0m \u001b[0mself\u001b[0m\u001b[1;33m.\u001b[0m\u001b[0minit_cen\u001b[0m\u001b[1;33m,\u001b[0m \u001b[0mmax_iter\u001b[0m\u001b[1;33m)\u001b[0m\u001b[1;33m\u001b[0m\u001b[0m\n\u001b[0m\u001b[0;32m    125\u001b[0m         \u001b[0mend\u001b[0m \u001b[1;33m=\u001b[0m \u001b[0mtime\u001b[0m\u001b[1;33m.\u001b[0m\u001b[0mtime\u001b[0m\u001b[1;33m(\u001b[0m\u001b[1;33m)\u001b[0m\u001b[1;33m\u001b[0m\u001b[0m\n\u001b[0;32m    126\u001b[0m         \u001b[0mprint\u001b[0m\u001b[1;33m(\u001b[0m\u001b[1;34mf\"- {self.name} trained\"\u001b[0m\u001b[1;33m)\u001b[0m\u001b[1;33m\u001b[0m\u001b[0m\n",
      "\u001b[1;32mD:\\courses\\fall2020\\DATA516 - scalable\\project\\bench-marking-k-means\\src\\kmeans_python.py\u001b[0m in \u001b[0;36mkmeans_py\u001b[1;34m(X, cen, max_iter)\u001b[0m\n\u001b[0;32m     50\u001b[0m \u001b[1;33m\u001b[0m\u001b[0m\n\u001b[0;32m     51\u001b[0m         \u001b[1;31m# calculate enclidean distance between datapoints and centroids\u001b[0m\u001b[1;33m\u001b[0m\u001b[1;33m\u001b[0m\u001b[0m\n\u001b[1;32m---> 52\u001b[1;33m         \u001b[0mdist_mat\u001b[0m \u001b[1;33m=\u001b[0m \u001b[0meuc_dist_py\u001b[0m\u001b[1;33m(\u001b[0m\u001b[0mX\u001b[0m\u001b[1;33m,\u001b[0m \u001b[0mcen\u001b[0m\u001b[1;33m)\u001b[0m\u001b[1;33m\u001b[0m\u001b[0m\n\u001b[0m\u001b[0;32m     53\u001b[0m \u001b[1;33m\u001b[0m\u001b[0m\n\u001b[0;32m     54\u001b[0m         \u001b[1;31m# determine closest centroid for each point\u001b[0m\u001b[1;33m\u001b[0m\u001b[1;33m\u001b[0m\u001b[0m\n",
      "\u001b[1;32mD:\\courses\\fall2020\\DATA516 - scalable\\project\\bench-marking-k-means\\src\\kmeans_python.py\u001b[0m in \u001b[0;36meuc_dist_py\u001b[1;34m(X, centroid)\u001b[0m\n\u001b[0;32m     24\u001b[0m     \u001b[1;32mfor\u001b[0m \u001b[0mi\u001b[0m \u001b[1;32min\u001b[0m \u001b[0mrange\u001b[0m\u001b[1;33m(\u001b[0m\u001b[0mn_features\u001b[0m\u001b[1;33m)\u001b[0m\u001b[1;33m:\u001b[0m\u001b[1;33m\u001b[0m\u001b[0m\n\u001b[0;32m     25\u001b[0m         \u001b[0mpts_mat\u001b[0m \u001b[1;33m=\u001b[0m \u001b[0mnp\u001b[0m\u001b[1;33m.\u001b[0m\u001b[0marray\u001b[0m\u001b[1;33m(\u001b[0m\u001b[1;33m[\u001b[0m\u001b[0mX\u001b[0m\u001b[1;33m[\u001b[0m\u001b[1;33m:\u001b[0m\u001b[1;33m,\u001b[0m \u001b[0mi\u001b[0m\u001b[1;33m]\u001b[0m\u001b[1;33m,\u001b[0m \u001b[1;33m]\u001b[0m \u001b[1;33m*\u001b[0m \u001b[0mn_clusters\u001b[0m\u001b[1;33m)\u001b[0m\u001b[1;33m.\u001b[0m\u001b[0mT\u001b[0m\u001b[1;33m\u001b[0m\u001b[0m\n\u001b[1;32m---> 26\u001b[1;33m         \u001b[0mctd_mat\u001b[0m \u001b[1;33m=\u001b[0m \u001b[0mnp\u001b[0m\u001b[1;33m.\u001b[0m\u001b[0marray\u001b[0m\u001b[1;33m(\u001b[0m\u001b[1;33m[\u001b[0m\u001b[0mcentroid\u001b[0m\u001b[1;33m[\u001b[0m\u001b[1;33m:\u001b[0m\u001b[1;33m,\u001b[0m\u001b[0mi\u001b[0m\u001b[1;33m]\u001b[0m\u001b[1;33m,\u001b[0m\u001b[1;33m]\u001b[0m \u001b[1;33m*\u001b[0m \u001b[0mn_samples\u001b[0m\u001b[1;33m)\u001b[0m\u001b[1;33m\u001b[0m\u001b[0m\n\u001b[0m\u001b[0;32m     27\u001b[0m         \u001b[0mdist\u001b[0m \u001b[1;33m+=\u001b[0m \u001b[1;33m(\u001b[0m\u001b[0mpts_mat\u001b[0m\u001b[1;33m-\u001b[0m\u001b[0mctd_mat\u001b[0m\u001b[1;33m)\u001b[0m\u001b[1;33m**\u001b[0m\u001b[1;36m2\u001b[0m\u001b[1;33m\u001b[0m\u001b[0m\n\u001b[0;32m     28\u001b[0m \u001b[1;33m\u001b[0m\u001b[0m\n",
      "\u001b[1;31mKeyboardInterrupt\u001b[0m: "
     ]
    }
   ],
   "source": [
    "location = 'python'\n",
    "cols = ['dataset', 'n_samples', 'n_features', 'n_clusters', 'training_time (ms)', 'NMI score']\n",
    "output_df = pd.DataFrame(columns=cols)\n",
    "print(f\"#### start training-{location} ####\")\n",
    "for data in datasets:\n",
    "    d = dataset(data, location)\n",
    "    d.load_dataset(load_dataset_py)\n",
    "    t = d.kmeans_train(kmeans_py, 100)\n",
    "    n_s, n_f, n_c = d.dataset_info()\n",
    "    d.save_output()\n",
    "    nmi = d.eval_output()\n",
    "    tmp = pd.DataFrame([[data, n_s, n_f, n_c, t, nmi]], columns=cols)\n",
    "    output_df = output_df.append(tmp, ignore_index=True)\n",
    "    del d"
   ]
  },
  {
   "cell_type": "code",
   "execution_count": 5,
   "metadata": {},
   "outputs": [
    {
     "data": {
      "text/html": [
       "<div>\n",
       "<style scoped>\n",
       "    .dataframe tbody tr th:only-of-type {\n",
       "        vertical-align: middle;\n",
       "    }\n",
       "\n",
       "    .dataframe tbody tr th {\n",
       "        vertical-align: top;\n",
       "    }\n",
       "\n",
       "    .dataframe thead th {\n",
       "        text-align: right;\n",
       "    }\n",
       "</style>\n",
       "<table border=\"1\" class=\"dataframe\">\n",
       "  <thead>\n",
       "    <tr style=\"text-align: right;\">\n",
       "      <th></th>\n",
       "      <th>dataset</th>\n",
       "      <th>n_samples</th>\n",
       "      <th>n_features</th>\n",
       "      <th>n_clusters</th>\n",
       "      <th>training_time (ms)</th>\n",
       "      <th>NMI score</th>\n",
       "    </tr>\n",
       "  </thead>\n",
       "  <tbody>\n",
       "    <tr>\n",
       "      <th>0</th>\n",
       "      <td>a3</td>\n",
       "      <td>7500</td>\n",
       "      <td>2</td>\n",
       "      <td>50</td>\n",
       "      <td>3.300002e+03</td>\n",
       "      <td>0.979869</td>\n",
       "    </tr>\n",
       "    <tr>\n",
       "      <th>1</th>\n",
       "      <td>a3e1</td>\n",
       "      <td>10000</td>\n",
       "      <td>2</td>\n",
       "      <td>50</td>\n",
       "      <td>4.355168e+03</td>\n",
       "      <td>0.992243</td>\n",
       "    </tr>\n",
       "    <tr>\n",
       "      <th>2</th>\n",
       "      <td>a3e2</td>\n",
       "      <td>100000</td>\n",
       "      <td>2</td>\n",
       "      <td>50</td>\n",
       "      <td>3.890465e+04</td>\n",
       "      <td>1.000000</td>\n",
       "    </tr>\n",
       "    <tr>\n",
       "      <th>3</th>\n",
       "      <td>a3e3</td>\n",
       "      <td>1000000</td>\n",
       "      <td>2</td>\n",
       "      <td>50</td>\n",
       "      <td>3.866083e+05</td>\n",
       "      <td>1.000000</td>\n",
       "    </tr>\n",
       "    <tr>\n",
       "      <th>4</th>\n",
       "      <td>dim032</td>\n",
       "      <td>1024</td>\n",
       "      <td>32</td>\n",
       "      <td>16</td>\n",
       "      <td>1.956998e+03</td>\n",
       "      <td>1.000000</td>\n",
       "    </tr>\n",
       "    <tr>\n",
       "      <th>5</th>\n",
       "      <td>dim032e1</td>\n",
       "      <td>10000</td>\n",
       "      <td>32</td>\n",
       "      <td>16</td>\n",
       "      <td>2.726758e+04</td>\n",
       "      <td>1.000000</td>\n",
       "    </tr>\n",
       "    <tr>\n",
       "      <th>6</th>\n",
       "      <td>dim032e2</td>\n",
       "      <td>100000</td>\n",
       "      <td>32</td>\n",
       "      <td>16</td>\n",
       "      <td>3.146399e+05</td>\n",
       "      <td>1.000000</td>\n",
       "    </tr>\n",
       "    <tr>\n",
       "      <th>7</th>\n",
       "      <td>dim032e3</td>\n",
       "      <td>1000000</td>\n",
       "      <td>32</td>\n",
       "      <td>16</td>\n",
       "      <td>3.348511e+06</td>\n",
       "      <td>1.000000</td>\n",
       "    </tr>\n",
       "    <tr>\n",
       "      <th>8</th>\n",
       "      <td>dim128</td>\n",
       "      <td>1024</td>\n",
       "      <td>128</td>\n",
       "      <td>16</td>\n",
       "      <td>6.356976e+03</td>\n",
       "      <td>1.000000</td>\n",
       "    </tr>\n",
       "    <tr>\n",
       "      <th>9</th>\n",
       "      <td>dim128e1</td>\n",
       "      <td>10000</td>\n",
       "      <td>128</td>\n",
       "      <td>16</td>\n",
       "      <td>1.019370e+05</td>\n",
       "      <td>1.000000</td>\n",
       "    </tr>\n",
       "    <tr>\n",
       "      <th>10</th>\n",
       "      <td>dim128e2</td>\n",
       "      <td>100000</td>\n",
       "      <td>128</td>\n",
       "      <td>16</td>\n",
       "      <td>1.058977e+06</td>\n",
       "      <td>1.000000</td>\n",
       "    </tr>\n",
       "    <tr>\n",
       "      <th>11</th>\n",
       "      <td>dim128e3</td>\n",
       "      <td>1000000</td>\n",
       "      <td>128</td>\n",
       "      <td>16</td>\n",
       "      <td>1.207038e+07</td>\n",
       "      <td>1.000000</td>\n",
       "    </tr>\n",
       "    <tr>\n",
       "      <th>12</th>\n",
       "      <td>dim512</td>\n",
       "      <td>1024</td>\n",
       "      <td>512</td>\n",
       "      <td>16</td>\n",
       "      <td>2.701502e+04</td>\n",
       "      <td>1.000000</td>\n",
       "    </tr>\n",
       "    <tr>\n",
       "      <th>13</th>\n",
       "      <td>dim512e1</td>\n",
       "      <td>10000</td>\n",
       "      <td>512</td>\n",
       "      <td>16</td>\n",
       "      <td>4.593630e+05</td>\n",
       "      <td>1.000000</td>\n",
       "    </tr>\n",
       "  </tbody>\n",
       "</table>\n",
       "</div>"
      ],
      "text/plain": [
       "     dataset n_samples n_features n_clusters  training_time (ms)  NMI score\n",
       "0         a3      7500          2         50        3.300002e+03   0.979869\n",
       "1       a3e1     10000          2         50        4.355168e+03   0.992243\n",
       "2       a3e2    100000          2         50        3.890465e+04   1.000000\n",
       "3       a3e3   1000000          2         50        3.866083e+05   1.000000\n",
       "4     dim032      1024         32         16        1.956998e+03   1.000000\n",
       "5   dim032e1     10000         32         16        2.726758e+04   1.000000\n",
       "6   dim032e2    100000         32         16        3.146399e+05   1.000000\n",
       "7   dim032e3   1000000         32         16        3.348511e+06   1.000000\n",
       "8     dim128      1024        128         16        6.356976e+03   1.000000\n",
       "9   dim128e1     10000        128         16        1.019370e+05   1.000000\n",
       "10  dim128e2    100000        128         16        1.058977e+06   1.000000\n",
       "11  dim128e3   1000000        128         16        1.207038e+07   1.000000\n",
       "12    dim512      1024        512         16        2.701502e+04   1.000000\n",
       "13  dim512e1     10000        512         16        4.593630e+05   1.000000"
      ]
     },
     "execution_count": 5,
     "metadata": {},
     "output_type": "execute_result"
    }
   ],
   "source": [
    "output_df"
   ]
  },
  {
   "cell_type": "code",
   "execution_count": 7,
   "metadata": {},
   "outputs": [],
   "source": [
    "output_df.to_csv(\"results/training-history-python.csv\", index=False)"
   ]
  },
  {
   "cell_type": "markdown",
   "metadata": {},
   "source": [
    "### continue dim512 training"
   ]
  },
  {
   "cell_type": "code",
   "execution_count": 4,
   "metadata": {},
   "outputs": [
    {
     "data": {
      "text/html": [
       "<div>\n",
       "<style scoped>\n",
       "    .dataframe tbody tr th:only-of-type {\n",
       "        vertical-align: middle;\n",
       "    }\n",
       "\n",
       "    .dataframe tbody tr th {\n",
       "        vertical-align: top;\n",
       "    }\n",
       "\n",
       "    .dataframe thead th {\n",
       "        text-align: right;\n",
       "    }\n",
       "</style>\n",
       "<table border=\"1\" class=\"dataframe\">\n",
       "  <thead>\n",
       "    <tr style=\"text-align: right;\">\n",
       "      <th></th>\n",
       "      <th>dataset</th>\n",
       "      <th>n_samples</th>\n",
       "      <th>n_features</th>\n",
       "      <th>n_clusters</th>\n",
       "      <th>training_time (ms)</th>\n",
       "      <th>NMI score</th>\n",
       "    </tr>\n",
       "  </thead>\n",
       "  <tbody>\n",
       "    <tr>\n",
       "      <th>0</th>\n",
       "      <td>a3</td>\n",
       "      <td>7500</td>\n",
       "      <td>2</td>\n",
       "      <td>50</td>\n",
       "      <td>3.300002e+03</td>\n",
       "      <td>0.979869</td>\n",
       "    </tr>\n",
       "    <tr>\n",
       "      <th>1</th>\n",
       "      <td>a3e1</td>\n",
       "      <td>10000</td>\n",
       "      <td>2</td>\n",
       "      <td>50</td>\n",
       "      <td>4.355168e+03</td>\n",
       "      <td>0.992243</td>\n",
       "    </tr>\n",
       "    <tr>\n",
       "      <th>2</th>\n",
       "      <td>a3e2</td>\n",
       "      <td>100000</td>\n",
       "      <td>2</td>\n",
       "      <td>50</td>\n",
       "      <td>3.890465e+04</td>\n",
       "      <td>1.000000</td>\n",
       "    </tr>\n",
       "    <tr>\n",
       "      <th>3</th>\n",
       "      <td>a3e3</td>\n",
       "      <td>1000000</td>\n",
       "      <td>2</td>\n",
       "      <td>50</td>\n",
       "      <td>3.866083e+05</td>\n",
       "      <td>1.000000</td>\n",
       "    </tr>\n",
       "    <tr>\n",
       "      <th>4</th>\n",
       "      <td>dim032</td>\n",
       "      <td>1024</td>\n",
       "      <td>32</td>\n",
       "      <td>16</td>\n",
       "      <td>1.956998e+03</td>\n",
       "      <td>1.000000</td>\n",
       "    </tr>\n",
       "    <tr>\n",
       "      <th>5</th>\n",
       "      <td>dim032e1</td>\n",
       "      <td>10000</td>\n",
       "      <td>32</td>\n",
       "      <td>16</td>\n",
       "      <td>2.726758e+04</td>\n",
       "      <td>1.000000</td>\n",
       "    </tr>\n",
       "    <tr>\n",
       "      <th>6</th>\n",
       "      <td>dim032e2</td>\n",
       "      <td>100000</td>\n",
       "      <td>32</td>\n",
       "      <td>16</td>\n",
       "      <td>3.146399e+05</td>\n",
       "      <td>1.000000</td>\n",
       "    </tr>\n",
       "    <tr>\n",
       "      <th>7</th>\n",
       "      <td>dim032e3</td>\n",
       "      <td>1000000</td>\n",
       "      <td>32</td>\n",
       "      <td>16</td>\n",
       "      <td>3.348511e+06</td>\n",
       "      <td>1.000000</td>\n",
       "    </tr>\n",
       "    <tr>\n",
       "      <th>8</th>\n",
       "      <td>dim128</td>\n",
       "      <td>1024</td>\n",
       "      <td>128</td>\n",
       "      <td>16</td>\n",
       "      <td>6.356976e+03</td>\n",
       "      <td>1.000000</td>\n",
       "    </tr>\n",
       "    <tr>\n",
       "      <th>9</th>\n",
       "      <td>dim128e1</td>\n",
       "      <td>10000</td>\n",
       "      <td>128</td>\n",
       "      <td>16</td>\n",
       "      <td>1.019370e+05</td>\n",
       "      <td>1.000000</td>\n",
       "    </tr>\n",
       "    <tr>\n",
       "      <th>10</th>\n",
       "      <td>dim128e2</td>\n",
       "      <td>100000</td>\n",
       "      <td>128</td>\n",
       "      <td>16</td>\n",
       "      <td>1.058977e+06</td>\n",
       "      <td>1.000000</td>\n",
       "    </tr>\n",
       "    <tr>\n",
       "      <th>11</th>\n",
       "      <td>dim128e3</td>\n",
       "      <td>1000000</td>\n",
       "      <td>128</td>\n",
       "      <td>16</td>\n",
       "      <td>1.207038e+07</td>\n",
       "      <td>1.000000</td>\n",
       "    </tr>\n",
       "    <tr>\n",
       "      <th>12</th>\n",
       "      <td>dim512</td>\n",
       "      <td>1024</td>\n",
       "      <td>512</td>\n",
       "      <td>16</td>\n",
       "      <td>2.701502e+04</td>\n",
       "      <td>1.000000</td>\n",
       "    </tr>\n",
       "    <tr>\n",
       "      <th>13</th>\n",
       "      <td>dim512e1</td>\n",
       "      <td>10000</td>\n",
       "      <td>512</td>\n",
       "      <td>16</td>\n",
       "      <td>4.593630e+05</td>\n",
       "      <td>1.000000</td>\n",
       "    </tr>\n",
       "  </tbody>\n",
       "</table>\n",
       "</div>"
      ],
      "text/plain": [
       "     dataset  n_samples  n_features  n_clusters  training_time (ms)  NMI score\n",
       "0         a3       7500           2          50        3.300002e+03   0.979869\n",
       "1       a3e1      10000           2          50        4.355168e+03   0.992243\n",
       "2       a3e2     100000           2          50        3.890465e+04   1.000000\n",
       "3       a3e3    1000000           2          50        3.866083e+05   1.000000\n",
       "4     dim032       1024          32          16        1.956998e+03   1.000000\n",
       "5   dim032e1      10000          32          16        2.726758e+04   1.000000\n",
       "6   dim032e2     100000          32          16        3.146399e+05   1.000000\n",
       "7   dim032e3    1000000          32          16        3.348511e+06   1.000000\n",
       "8     dim128       1024         128          16        6.356976e+03   1.000000\n",
       "9   dim128e1      10000         128          16        1.019370e+05   1.000000\n",
       "10  dim128e2     100000         128          16        1.058977e+06   1.000000\n",
       "11  dim128e3    1000000         128          16        1.207038e+07   1.000000\n",
       "12    dim512       1024         512          16        2.701502e+04   1.000000\n",
       "13  dim512e1      10000         512          16        4.593630e+05   1.000000"
      ]
     },
     "execution_count": 4,
     "metadata": {},
     "output_type": "execute_result"
    }
   ],
   "source": [
    "output_df = pd.read_csv(\"results/training-history-python.csv\")\n",
    "output_df"
   ]
  },
  {
   "cell_type": "code",
   "execution_count": 5,
   "metadata": {
    "scrolled": true
   },
   "outputs": [
    {
     "name": "stdout",
     "output_type": "stream",
     "text": [
      "#### start training-python ####\n",
      "#### dim512e2\n",
      "- dim512e2 initiated\n",
      "- dim512e2 data loaded\n",
      "- dim512e2 training start\n"
     ]
    },
    {
     "data": {
      "application/vnd.jupyter.widget-view+json": {
       "model_id": "a52e2af683834269a7bd2f6f94cbb5bf",
       "version_major": 2,
       "version_minor": 0
      },
      "text/plain": [
       "HBox(children=(HTML(value=''), FloatProgress(value=0.0), HTML(value='')))"
      ]
     },
     "metadata": {},
     "output_type": "display_data"
    },
    {
     "name": "stdout",
     "output_type": "stream",
     "text": [
      "\n",
      "- dim512e2 trained\n",
      "time used: 4927826.535ms\n",
      "- dim512e2 saved\n",
      "The final cost reduction is 0.0%\n",
      "The final NMI score is 1.0\n",
      "#### dim512e3\n",
      "- dim512e3 initiated\n",
      "- dim512e3 data loaded\n",
      "- dim512e3 training start\n"
     ]
    },
    {
     "data": {
      "application/vnd.jupyter.widget-view+json": {
       "model_id": "7076c1083be24345b1b9119e37407ed3",
       "version_major": 2,
       "version_minor": 0
      },
      "text/plain": [
       "HBox(children=(HTML(value=''), FloatProgress(value=0.0), HTML(value='')))"
      ]
     },
     "metadata": {},
     "output_type": "display_data"
    },
    {
     "name": "stdout",
     "output_type": "stream",
     "text": [
      "\n"
     ]
    },
    {
     "ename": "KeyboardInterrupt",
     "evalue": "",
     "output_type": "error",
     "traceback": [
      "\u001b[1;31m---------------------------------------------------------------------------\u001b[0m",
      "\u001b[1;31mKeyboardInterrupt\u001b[0m                         Traceback (most recent call last)",
      "\u001b[1;32m<ipython-input-5-5edbd26f48f1>\u001b[0m in \u001b[0;36m<module>\u001b[1;34m\u001b[0m\n\u001b[0;32m      5\u001b[0m     \u001b[0md\u001b[0m \u001b[1;33m=\u001b[0m \u001b[0mdataset\u001b[0m\u001b[1;33m(\u001b[0m\u001b[0mdata\u001b[0m\u001b[1;33m,\u001b[0m \u001b[0mlocation\u001b[0m\u001b[1;33m)\u001b[0m\u001b[1;33m\u001b[0m\u001b[0m\n\u001b[0;32m      6\u001b[0m     \u001b[0md\u001b[0m\u001b[1;33m.\u001b[0m\u001b[0mload_dataset\u001b[0m\u001b[1;33m(\u001b[0m\u001b[0mload_dataset_py\u001b[0m\u001b[1;33m)\u001b[0m\u001b[1;33m\u001b[0m\u001b[0m\n\u001b[1;32m----> 7\u001b[1;33m     \u001b[0mt\u001b[0m \u001b[1;33m=\u001b[0m \u001b[0md\u001b[0m\u001b[1;33m.\u001b[0m\u001b[0mkmeans_train\u001b[0m\u001b[1;33m(\u001b[0m\u001b[0mkmeans_py\u001b[0m\u001b[1;33m,\u001b[0m \u001b[1;36m100\u001b[0m\u001b[1;33m)\u001b[0m\u001b[1;33m\u001b[0m\u001b[0m\n\u001b[0m\u001b[0;32m      8\u001b[0m     \u001b[0mn_s\u001b[0m\u001b[1;33m,\u001b[0m \u001b[0mn_f\u001b[0m\u001b[1;33m,\u001b[0m \u001b[0mn_c\u001b[0m \u001b[1;33m=\u001b[0m \u001b[0md\u001b[0m\u001b[1;33m.\u001b[0m\u001b[0mdataset_info\u001b[0m\u001b[1;33m(\u001b[0m\u001b[1;33m)\u001b[0m\u001b[1;33m\u001b[0m\u001b[0m\n\u001b[0;32m      9\u001b[0m     \u001b[0md\u001b[0m\u001b[1;33m.\u001b[0m\u001b[0msave_output\u001b[0m\u001b[1;33m(\u001b[0m\u001b[1;33m)\u001b[0m\u001b[1;33m\u001b[0m\u001b[0m\n",
      "\u001b[1;32mD:\\courses\\fall2020\\DATA516 - scalable\\project\\bench-marking-k-means\\src\\util.py\u001b[0m in \u001b[0;36mkmeans_train\u001b[1;34m(self, train_fn, max_iter)\u001b[0m\n\u001b[0;32m    122\u001b[0m             \u001b[0mself\u001b[0m\u001b[1;33m.\u001b[0m\u001b[0mlabel\u001b[0m\u001b[1;33m,\u001b[0m \u001b[0mself\u001b[0m\u001b[1;33m.\u001b[0m\u001b[0mcentroid\u001b[0m\u001b[1;33m,\u001b[0m \u001b[0mself\u001b[0m\u001b[1;33m.\u001b[0m\u001b[0mcost\u001b[0m \u001b[1;33m=\u001b[0m \u001b[0mtrain_fn\u001b[0m\u001b[1;33m(\u001b[0m\u001b[0mself\u001b[0m\u001b[1;33m.\u001b[0m\u001b[0mcon\u001b[0m\u001b[1;33m,\u001b[0m \u001b[0mself\u001b[0m\u001b[1;33m.\u001b[0m\u001b[0mdata\u001b[0m\u001b[1;33m,\u001b[0m \u001b[0mself\u001b[0m\u001b[1;33m.\u001b[0m\u001b[0minit_cen\u001b[0m\u001b[1;33m,\u001b[0m \u001b[0mmax_iter\u001b[0m\u001b[1;33m)\u001b[0m\u001b[1;33m\u001b[0m\u001b[0m\n\u001b[0;32m    123\u001b[0m         \u001b[1;32melse\u001b[0m\u001b[1;33m:\u001b[0m\u001b[1;33m\u001b[0m\u001b[0m\n\u001b[1;32m--> 124\u001b[1;33m             \u001b[0mself\u001b[0m\u001b[1;33m.\u001b[0m\u001b[0mlabel\u001b[0m\u001b[1;33m,\u001b[0m \u001b[0mself\u001b[0m\u001b[1;33m.\u001b[0m\u001b[0mcentroid\u001b[0m\u001b[1;33m,\u001b[0m \u001b[0mself\u001b[0m\u001b[1;33m.\u001b[0m\u001b[0mcost\u001b[0m \u001b[1;33m=\u001b[0m \u001b[0mtrain_fn\u001b[0m\u001b[1;33m(\u001b[0m\u001b[0mself\u001b[0m\u001b[1;33m.\u001b[0m\u001b[0mdata\u001b[0m\u001b[1;33m,\u001b[0m \u001b[0mself\u001b[0m\u001b[1;33m.\u001b[0m\u001b[0minit_cen\u001b[0m\u001b[1;33m,\u001b[0m \u001b[0mmax_iter\u001b[0m\u001b[1;33m)\u001b[0m\u001b[1;33m\u001b[0m\u001b[0m\n\u001b[0m\u001b[0;32m    125\u001b[0m         \u001b[0mend\u001b[0m \u001b[1;33m=\u001b[0m \u001b[0mtime\u001b[0m\u001b[1;33m.\u001b[0m\u001b[0mtime\u001b[0m\u001b[1;33m(\u001b[0m\u001b[1;33m)\u001b[0m\u001b[1;33m\u001b[0m\u001b[0m\n\u001b[0;32m    126\u001b[0m         \u001b[0mprint\u001b[0m\u001b[1;33m(\u001b[0m\u001b[1;34mf\"- {self.name} trained\"\u001b[0m\u001b[1;33m)\u001b[0m\u001b[1;33m\u001b[0m\u001b[0m\n",
      "\u001b[1;32mD:\\courses\\fall2020\\DATA516 - scalable\\project\\bench-marking-k-means\\src\\kmeans_python.py\u001b[0m in \u001b[0;36mkmeans_py\u001b[1;34m(X, cen, max_iter)\u001b[0m\n\u001b[0;32m     50\u001b[0m \u001b[1;33m\u001b[0m\u001b[0m\n\u001b[0;32m     51\u001b[0m         \u001b[1;31m# calculate enclidean distance between datapoints and centroids\u001b[0m\u001b[1;33m\u001b[0m\u001b[1;33m\u001b[0m\u001b[0m\n\u001b[1;32m---> 52\u001b[1;33m         \u001b[0mdist_mat\u001b[0m \u001b[1;33m=\u001b[0m \u001b[0meuc_dist_py\u001b[0m\u001b[1;33m(\u001b[0m\u001b[0mX\u001b[0m\u001b[1;33m,\u001b[0m \u001b[0mcen\u001b[0m\u001b[1;33m)\u001b[0m\u001b[1;33m\u001b[0m\u001b[0m\n\u001b[0m\u001b[0;32m     53\u001b[0m \u001b[1;33m\u001b[0m\u001b[0m\n\u001b[0;32m     54\u001b[0m         \u001b[1;31m# determine closest centroid for each point\u001b[0m\u001b[1;33m\u001b[0m\u001b[1;33m\u001b[0m\u001b[0m\n",
      "\u001b[1;32mD:\\courses\\fall2020\\DATA516 - scalable\\project\\bench-marking-k-means\\src\\kmeans_python.py\u001b[0m in \u001b[0;36meuc_dist_py\u001b[1;34m(X, centroid)\u001b[0m\n\u001b[0;32m     25\u001b[0m         \u001b[0mpts_mat\u001b[0m \u001b[1;33m=\u001b[0m \u001b[0mnp\u001b[0m\u001b[1;33m.\u001b[0m\u001b[0marray\u001b[0m\u001b[1;33m(\u001b[0m\u001b[1;33m[\u001b[0m\u001b[0mX\u001b[0m\u001b[1;33m[\u001b[0m\u001b[1;33m:\u001b[0m\u001b[1;33m,\u001b[0m \u001b[0mi\u001b[0m\u001b[1;33m]\u001b[0m\u001b[1;33m,\u001b[0m \u001b[1;33m]\u001b[0m \u001b[1;33m*\u001b[0m \u001b[0mn_clusters\u001b[0m\u001b[1;33m)\u001b[0m\u001b[1;33m.\u001b[0m\u001b[0mT\u001b[0m\u001b[1;33m\u001b[0m\u001b[0m\n\u001b[0;32m     26\u001b[0m         \u001b[0mctd_mat\u001b[0m \u001b[1;33m=\u001b[0m \u001b[0mnp\u001b[0m\u001b[1;33m.\u001b[0m\u001b[0marray\u001b[0m\u001b[1;33m(\u001b[0m\u001b[1;33m[\u001b[0m\u001b[0mcentroid\u001b[0m\u001b[1;33m[\u001b[0m\u001b[1;33m:\u001b[0m\u001b[1;33m,\u001b[0m\u001b[0mi\u001b[0m\u001b[1;33m]\u001b[0m\u001b[1;33m,\u001b[0m\u001b[1;33m]\u001b[0m \u001b[1;33m*\u001b[0m \u001b[0mn_samples\u001b[0m\u001b[1;33m)\u001b[0m\u001b[1;33m\u001b[0m\u001b[0m\n\u001b[1;32m---> 27\u001b[1;33m         \u001b[0mdist\u001b[0m \u001b[1;33m+=\u001b[0m \u001b[1;33m(\u001b[0m\u001b[0mpts_mat\u001b[0m\u001b[1;33m-\u001b[0m\u001b[0mctd_mat\u001b[0m\u001b[1;33m)\u001b[0m\u001b[1;33m**\u001b[0m\u001b[1;36m2\u001b[0m\u001b[1;33m\u001b[0m\u001b[0m\n\u001b[0m\u001b[0;32m     28\u001b[0m \u001b[1;33m\u001b[0m\u001b[0m\n\u001b[0;32m     29\u001b[0m     \u001b[1;32mreturn\u001b[0m \u001b[0mdist\u001b[0m\u001b[1;33m\u001b[0m\u001b[0m\n",
      "\u001b[1;31mKeyboardInterrupt\u001b[0m: "
     ]
    }
   ],
   "source": [
    "location = 'python'\n",
    "cols = ['dataset', 'n_samples', 'n_features', 'n_clusters', 'training_time (ms)', 'NMI score']\n",
    "print(f\"#### start training-{location} ####\")\n",
    "for data in ['dim512e2', 'dim512e3']:\n",
    "    d = dataset(data, location)\n",
    "    d.load_dataset(load_dataset_py)\n",
    "    t = d.kmeans_train(kmeans_py, 100)\n",
    "    n_s, n_f, n_c = d.dataset_info()\n",
    "    d.save_output()\n",
    "    nmi = d.eval_output()\n",
    "    tmp = pd.DataFrame([[data, n_s, n_f, n_c, t, nmi]], columns=cols)\n",
    "    output_df = output_df.append(tmp, ignore_index=True)\n",
    "    del d"
   ]
  },
  {
   "cell_type": "markdown",
   "metadata": {},
   "source": [
    "dim512e3 training time: est. 13.4hr"
   ]
  },
  {
   "cell_type": "code",
   "execution_count": 6,
   "metadata": {},
   "outputs": [
    {
     "data": {
      "text/html": [
       "<div>\n",
       "<style scoped>\n",
       "    .dataframe tbody tr th:only-of-type {\n",
       "        vertical-align: middle;\n",
       "    }\n",
       "\n",
       "    .dataframe tbody tr th {\n",
       "        vertical-align: top;\n",
       "    }\n",
       "\n",
       "    .dataframe thead th {\n",
       "        text-align: right;\n",
       "    }\n",
       "</style>\n",
       "<table border=\"1\" class=\"dataframe\">\n",
       "  <thead>\n",
       "    <tr style=\"text-align: right;\">\n",
       "      <th></th>\n",
       "      <th>dataset</th>\n",
       "      <th>n_samples</th>\n",
       "      <th>n_features</th>\n",
       "      <th>n_clusters</th>\n",
       "      <th>training_time (ms)</th>\n",
       "      <th>NMI score</th>\n",
       "    </tr>\n",
       "  </thead>\n",
       "  <tbody>\n",
       "    <tr>\n",
       "      <th>0</th>\n",
       "      <td>a3</td>\n",
       "      <td>7500</td>\n",
       "      <td>2</td>\n",
       "      <td>50</td>\n",
       "      <td>3.300002e+03</td>\n",
       "      <td>0.979869</td>\n",
       "    </tr>\n",
       "    <tr>\n",
       "      <th>1</th>\n",
       "      <td>a3e1</td>\n",
       "      <td>10000</td>\n",
       "      <td>2</td>\n",
       "      <td>50</td>\n",
       "      <td>4.355168e+03</td>\n",
       "      <td>0.992243</td>\n",
       "    </tr>\n",
       "    <tr>\n",
       "      <th>2</th>\n",
       "      <td>a3e2</td>\n",
       "      <td>100000</td>\n",
       "      <td>2</td>\n",
       "      <td>50</td>\n",
       "      <td>3.890465e+04</td>\n",
       "      <td>1.000000</td>\n",
       "    </tr>\n",
       "    <tr>\n",
       "      <th>3</th>\n",
       "      <td>a3e3</td>\n",
       "      <td>1000000</td>\n",
       "      <td>2</td>\n",
       "      <td>50</td>\n",
       "      <td>3.866083e+05</td>\n",
       "      <td>1.000000</td>\n",
       "    </tr>\n",
       "    <tr>\n",
       "      <th>4</th>\n",
       "      <td>dim032</td>\n",
       "      <td>1024</td>\n",
       "      <td>32</td>\n",
       "      <td>16</td>\n",
       "      <td>1.956998e+03</td>\n",
       "      <td>1.000000</td>\n",
       "    </tr>\n",
       "    <tr>\n",
       "      <th>5</th>\n",
       "      <td>dim032e1</td>\n",
       "      <td>10000</td>\n",
       "      <td>32</td>\n",
       "      <td>16</td>\n",
       "      <td>2.726758e+04</td>\n",
       "      <td>1.000000</td>\n",
       "    </tr>\n",
       "    <tr>\n",
       "      <th>6</th>\n",
       "      <td>dim032e2</td>\n",
       "      <td>100000</td>\n",
       "      <td>32</td>\n",
       "      <td>16</td>\n",
       "      <td>3.146399e+05</td>\n",
       "      <td>1.000000</td>\n",
       "    </tr>\n",
       "    <tr>\n",
       "      <th>7</th>\n",
       "      <td>dim032e3</td>\n",
       "      <td>1000000</td>\n",
       "      <td>32</td>\n",
       "      <td>16</td>\n",
       "      <td>3.348511e+06</td>\n",
       "      <td>1.000000</td>\n",
       "    </tr>\n",
       "    <tr>\n",
       "      <th>8</th>\n",
       "      <td>dim128</td>\n",
       "      <td>1024</td>\n",
       "      <td>128</td>\n",
       "      <td>16</td>\n",
       "      <td>6.356976e+03</td>\n",
       "      <td>1.000000</td>\n",
       "    </tr>\n",
       "    <tr>\n",
       "      <th>9</th>\n",
       "      <td>dim128e1</td>\n",
       "      <td>10000</td>\n",
       "      <td>128</td>\n",
       "      <td>16</td>\n",
       "      <td>1.019370e+05</td>\n",
       "      <td>1.000000</td>\n",
       "    </tr>\n",
       "    <tr>\n",
       "      <th>10</th>\n",
       "      <td>dim128e2</td>\n",
       "      <td>100000</td>\n",
       "      <td>128</td>\n",
       "      <td>16</td>\n",
       "      <td>1.058977e+06</td>\n",
       "      <td>1.000000</td>\n",
       "    </tr>\n",
       "    <tr>\n",
       "      <th>11</th>\n",
       "      <td>dim128e3</td>\n",
       "      <td>1000000</td>\n",
       "      <td>128</td>\n",
       "      <td>16</td>\n",
       "      <td>1.207038e+07</td>\n",
       "      <td>1.000000</td>\n",
       "    </tr>\n",
       "    <tr>\n",
       "      <th>12</th>\n",
       "      <td>dim512</td>\n",
       "      <td>1024</td>\n",
       "      <td>512</td>\n",
       "      <td>16</td>\n",
       "      <td>2.701502e+04</td>\n",
       "      <td>1.000000</td>\n",
       "    </tr>\n",
       "    <tr>\n",
       "      <th>13</th>\n",
       "      <td>dim512e1</td>\n",
       "      <td>10000</td>\n",
       "      <td>512</td>\n",
       "      <td>16</td>\n",
       "      <td>4.593630e+05</td>\n",
       "      <td>1.000000</td>\n",
       "    </tr>\n",
       "    <tr>\n",
       "      <th>14</th>\n",
       "      <td>dim512e2</td>\n",
       "      <td>100000</td>\n",
       "      <td>512</td>\n",
       "      <td>16</td>\n",
       "      <td>4.927827e+06</td>\n",
       "      <td>1.000000</td>\n",
       "    </tr>\n",
       "  </tbody>\n",
       "</table>\n",
       "</div>"
      ],
      "text/plain": [
       "     dataset  n_samples  n_features  n_clusters  training_time (ms)  NMI score\n",
       "0         a3       7500           2          50        3.300002e+03   0.979869\n",
       "1       a3e1      10000           2          50        4.355168e+03   0.992243\n",
       "2       a3e2     100000           2          50        3.890465e+04   1.000000\n",
       "3       a3e3    1000000           2          50        3.866083e+05   1.000000\n",
       "4     dim032       1024          32          16        1.956998e+03   1.000000\n",
       "5   dim032e1      10000          32          16        2.726758e+04   1.000000\n",
       "6   dim032e2     100000          32          16        3.146399e+05   1.000000\n",
       "7   dim032e3    1000000          32          16        3.348511e+06   1.000000\n",
       "8     dim128       1024         128          16        6.356976e+03   1.000000\n",
       "9   dim128e1      10000         128          16        1.019370e+05   1.000000\n",
       "10  dim128e2     100000         128          16        1.058977e+06   1.000000\n",
       "11  dim128e3    1000000         128          16        1.207038e+07   1.000000\n",
       "12    dim512       1024         512          16        2.701502e+04   1.000000\n",
       "13  dim512e1      10000         512          16        4.593630e+05   1.000000\n",
       "14  dim512e2     100000         512          16        4.927827e+06   1.000000"
      ]
     },
     "execution_count": 6,
     "metadata": {},
     "output_type": "execute_result"
    }
   ],
   "source": [
    "output_df"
   ]
  },
  {
   "cell_type": "code",
   "execution_count": 7,
   "metadata": {},
   "outputs": [],
   "source": [
    "output_df.to_csv(\"results/training-history-python.csv\", index=False)"
   ]
  }
 ],
 "metadata": {
  "kernelspec": {
   "display_name": "Python 3",
   "language": "python",
   "name": "python3"
  },
  "language_info": {
   "codemirror_mode": {
    "name": "ipython",
    "version": 3
   },
   "file_extension": ".py",
   "mimetype": "text/x-python",
   "name": "python",
   "nbconvert_exporter": "python",
   "pygments_lexer": "ipython3",
   "version": "3.7.0"
  }
 },
 "nbformat": 4,
 "nbformat_minor": 2
}
